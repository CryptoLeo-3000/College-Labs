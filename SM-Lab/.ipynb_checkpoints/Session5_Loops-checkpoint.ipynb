{
 "cells": [
  {
   "cell_type": "code",
   "execution_count": 1,
   "metadata": {},
   "outputs": [
    {
     "name": "stdout",
     "output_type": "stream",
     "text": [
      "1\n",
      "2\n",
      "3\n",
      "4\n",
      "5\n"
     ]
    }
   ],
   "source": [
    "for x in range(1, 6):\n",
    "    print(x)"
   ]
  },
  {
   "cell_type": "code",
   "execution_count": 5,
   "metadata": {},
   "outputs": [
    {
     "name": "stdout",
     "output_type": "stream",
     "text": [
      "vashi\n",
      "sanpada\n",
      "juinagar\n",
      "nerul\n",
      "belapur\n",
      "kharghar\n",
      "-----------------\n",
      "vashi\n",
      "sanpada\n",
      "juinagar\n",
      "-----------------\n",
      "vashi\n",
      "sanpada\n"
     ]
    }
   ],
   "source": [
    "stations = ['vashi', 'sanpada', 'juinagar', 'nerul', 'belapur', 'kharghar']\n",
    "\n",
    "for x in stations:\n",
    "    print(x)\n",
    "    \n",
    "print(\"-----------------\")\n",
    "\n",
    "for x in stations:\n",
    "    print(x)\n",
    "    if x == \"juinagar\":\n",
    "        break\n",
    "        \n",
    "print(\"-----------------\")\n",
    "\n",
    "for x in stations:\n",
    "    if x == \"juinagar\":\n",
    "        break\n",
    "    print(x)"
   ]
  },
  {
   "cell_type": "code",
   "execution_count": 6,
   "metadata": {},
   "outputs": [
    {
     "name": "stdout",
     "output_type": "stream",
     "text": [
      "vashi\n",
      "sanpada\n",
      "nerul\n",
      "belapur\n",
      "kharghar\n"
     ]
    }
   ],
   "source": [
    "for x in stations:\n",
    "    if x == \"juinagar\":\n",
    "        continue\n",
    "    print(x)"
   ]
  },
  {
   "cell_type": "code",
   "execution_count": 11,
   "metadata": {},
   "outputs": [
    {
     "name": "stdout",
     "output_type": "stream",
     "text": [
      "0\n",
      "1\n",
      "2\n",
      "3\n",
      "4\n",
      "5\n",
      "6\n",
      "7\n",
      "8\n",
      "9\n",
      "-----------------\n",
      "1\n",
      "2\n",
      "3\n",
      "4\n",
      "5\n",
      "6\n",
      "7\n",
      "8\n",
      "9\n",
      "-----------------\n",
      "1\n",
      "3\n",
      "5\n",
      "7\n",
      "9\n",
      "11\n",
      "13\n",
      "15\n",
      "17\n",
      "19\n"
     ]
    }
   ],
   "source": [
    "for x in range(10):\n",
    "    print(x)\n",
    "    \n",
    "print(\"-----------------\")\n",
    "\n",
    "for x in range(1, 10):\n",
    "    print(x)\n",
    "    \n",
    "print(\"-----------------\")\n",
    "\n",
    "for x in range(1, 21, 2):\n",
    "    print(x)"
   ]
  },
  {
   "cell_type": "code",
   "execution_count": 12,
   "metadata": {},
   "outputs": [
    {
     "name": "stdout",
     "output_type": "stream",
     "text": [
      "0\n",
      "1\n",
      "2\n",
      "3\n",
      "4\n",
      "finished\n"
     ]
    }
   ],
   "source": [
    "for x in range(5):\n",
    "    print(x)\n",
    "\n",
    "print(\"finished\")"
   ]
  },
  {
   "cell_type": "code",
   "execution_count": 15,
   "metadata": {},
   "outputs": [
    {
     "name": "stdout",
     "output_type": "stream",
     "text": [
      "-10\n",
      "-9\n",
      "-8\n",
      "-7\n",
      "-6\n",
      "-5\n",
      "-4\n",
      "-3\n",
      "-2\n",
      "-1\n",
      "0\n"
     ]
    }
   ],
   "source": [
    "for num in range(-10, 1):\n",
    "    print(num)"
   ]
  },
  {
   "cell_type": "code",
   "execution_count": 24,
   "metadata": {},
   "outputs": [
    {
     "name": "stdout",
     "output_type": "stream",
     "text": [
      "Enter a namejon\n",
      "85\n"
     ]
    }
   ],
   "source": [
    "marks = {'walter':99, 'jessica':60, 'jon':85, 'arthur':54}\n",
    "name = input(\"Enter a name\")\n",
    "\n",
    "for mark in marks:\n",
    "    if name == mark:\n",
    "        print(marks[mark])"
   ]
  },
  {
   "cell_type": "code",
   "execution_count": 27,
   "metadata": {},
   "outputs": [
    {
     "name": "stdout",
     "output_type": "stream",
     "text": [
      "red apple\n",
      "red watermelon\n",
      "big apple\n",
      "big watermelon\n",
      "tasty apple\n",
      "tasty watermelon\n"
     ]
    }
   ],
   "source": [
    "adj = ['red', 'big', 'tasty']\n",
    "fruits = ['apple', 'watermelon']\n",
    "\n",
    "for x in adj:\n",
    "    for y in fruits:\n",
    "        print(x, y)"
   ]
  },
  {
   "cell_type": "code",
   "execution_count": 29,
   "metadata": {},
   "outputs": [
    {
     "name": "stdout",
     "output_type": "stream",
     "text": [
      "0 \t 10\n",
      "0 \t 11\n",
      "0 \t 12\n",
      "0 \t 13\n",
      "0 \t 14\n",
      "1 \t 10\n",
      "1 \t 11\n",
      "1 \t 12\n",
      "1 \t 13\n",
      "1 \t 14\n",
      "2 \t 10\n",
      "2 \t 11\n",
      "2 \t 12\n",
      "2 \t 13\n",
      "2 \t 14\n"
     ]
    }
   ],
   "source": [
    "for num1 in range(3):\n",
    "    for num2 in range(10, 15):\n",
    "        print(num1, '\\t', num2)"
   ]
  },
  {
   "cell_type": "code",
   "execution_count": 31,
   "metadata": {},
   "outputs": [],
   "source": [
    "for x in stations:\n",
    "    pass"
   ]
  },
  {
   "cell_type": "code",
   "execution_count": 36,
   "metadata": {},
   "outputs": [
    {
     "name": "stdout",
     "output_type": "stream",
     "text": [
      "The sum is =  44\n"
     ]
    }
   ],
   "source": [
    "numbers = [2, 3, 5, 8, 9, 6, 5, 4, 1, 1]\n",
    "\n",
    "add = 0\n",
    "\n",
    "for num in numbers:\n",
    "    add += num\n",
    "    \n",
    "print(\"The sum is = \", add)"
   ]
  },
  {
   "cell_type": "code",
   "execution_count": 37,
   "metadata": {},
   "outputs": [
    {
     "name": "stdout",
     "output_type": "stream",
     "text": [
      "['vashi', 'sanpada', 'juinagar', 'nerul', 'belapur', 'kharghar']\n",
      "vashi\n",
      "sanpada\n",
      "juinagar\n",
      "nerul\n",
      "belapur\n",
      "kharghar\n"
     ]
    }
   ],
   "source": [
    "print(stations)\n",
    "\n",
    "for i in range(len(stations)):\n",
    "    print(stations[i])"
   ]
  },
  {
   "cell_type": "code",
   "execution_count": 45,
   "metadata": {},
   "outputs": [
    {
     "name": "stdout",
     "output_type": "stream",
     "text": [
      "No. of Even = 9\n",
      "No. of Odd = 7\n"
     ]
    }
   ],
   "source": [
    "numbers = (2, 6, 5, 3, 6, 9, 8, 5, 2, 3, 44, 55, 87, 88, 98, 66)\n",
    "even = 0\n",
    "odd = 0\n",
    "\n",
    "for i in numbers:\n",
    "    if i%2 == 0:\n",
    "        even += 1\n",
    "    else:\n",
    "        odd += 1\n",
    "        \n",
    "print(\"No. of Even =\", even)\n",
    "print(\"No. of Odd =\", odd)"
   ]
  },
  {
   "cell_type": "code",
   "execution_count": 44,
   "metadata": {},
   "outputs": [
    {
     "name": "stdout",
     "output_type": "stream",
     "text": [
      "1 \n",
      "\n",
      "1 2 \n",
      "\n",
      "1 2 3 \n",
      "\n",
      "1 2 3 4 \n",
      "\n",
      "1 2 3 4 5 \n",
      "\n"
     ]
    }
   ],
   "source": [
    "for i in range(1, 6):\n",
    "    for j in range(1, i+1):\n",
    "        print(j, end=' ')\n",
    "    print('\\n')"
   ]
  },
  {
   "cell_type": "code",
   "execution_count": 48,
   "metadata": {},
   "outputs": [
    {
     "name": "stdout",
     "output_type": "stream",
     "text": [
      "Please enter number4\n",
      "4 * 1 = 4\n",
      "4 * 2 = 8\n",
      "4 * 3 = 12\n",
      "4 * 4 = 16\n",
      "4 * 5 = 20\n",
      "4 * 6 = 24\n",
      "4 * 7 = 28\n",
      "4 * 8 = 32\n",
      "4 * 9 = 36\n",
      "4 * 10 = 40\n"
     ]
    }
   ],
   "source": [
    "number = int(input(\"Please enter number\"))\n",
    "for num in range(1, 11):\n",
    "    print(f'{number} *', num, \"=\", number*num)"
   ]
  },
  {
   "cell_type": "code",
   "execution_count": 50,
   "metadata": {},
   "outputs": [
    {
     "name": "stdout",
     "output_type": "stream",
     "text": [
      "1\n",
      "2\n",
      "3\n",
      "4\n",
      "5\n",
      "6\n",
      "7\n",
      "8\n",
      "9\n"
     ]
    }
   ],
   "source": [
    "lol = [[1, 2, 3], [4, 5, 6], [7, 8, 9]]\n",
    "\n",
    "for li in lol:\n",
    "    for l in li:\n",
    "        print(l)"
   ]
  },
  {
   "cell_type": "code",
   "execution_count": 52,
   "metadata": {},
   "outputs": [
    {
     "name": "stdout",
     "output_type": "stream",
     "text": [
      "Number:56\n",
      "56 is greater than 10\n"
     ]
    }
   ],
   "source": [
    "x = int(input(\"Number:\"))\n",
    "if x < 10:\n",
    "    print(x, 'is less than 10')\n",
    "else:\n",
    "    print(x, 'is greater than 10')"
   ]
  },
  {
   "cell_type": "code",
   "execution_count": 54,
   "metadata": {},
   "outputs": [
    {
     "name": "stdout",
     "output_type": "stream",
     "text": [
      "Numer One8\n",
      "Numer Two8\n",
      "8 is greater than 8\n"
     ]
    }
   ],
   "source": [
    "x = int(input(\"Numer One\"))\n",
    "y = int(input(\"Numer Two\"))\n",
    "\n",
    "\n",
    "if x < y:\n",
    "    print(x, 'is less than', y)\n",
    "else:\n",
    "    print(x, 'is greater than', y)"
   ]
  },
  {
   "cell_type": "code",
   "execution_count": 58,
   "metadata": {},
   "outputs": [
    {
     "name": "stdout",
     "output_type": "stream",
     "text": [
      "Both conditions are true\n"
     ]
    }
   ],
   "source": [
    "a = 200\n",
    "b = 30\n",
    "c = 550\n",
    "\n",
    "#if a > b and a > c:\n",
    "#   print(\"Both conditions are true\")\n",
    "    \n",
    "if a > b or a > c:\n",
    "    print(\"Both conditions are true\")"
   ]
  },
  {
   "cell_type": "code",
   "execution_count": 64,
   "metadata": {},
   "outputs": [
    {
     "name": "stdout",
     "output_type": "stream",
     "text": [
      "a is not equal to 20\n"
     ]
    }
   ],
   "source": [
    "a = 24\n",
    "if a == 20:\n",
    "    if a < 25:\n",
    "        print(\" a is smaller than 25\")\n",
    "    else:\n",
    "        print(\" a is greater than 25\")\n",
    "else:\n",
    "    print(\"a is not equal to 20\")"
   ]
  },
  {
   "cell_type": "code",
   "execution_count": 65,
   "metadata": {},
   "outputs": [
    {
     "name": "stdout",
     "output_type": "stream",
     "text": [
      "a is greater\n"
     ]
    }
   ],
   "source": [
    "a = 4\n",
    "b = 3\n",
    "\n",
    "print('a is greater') if a > b else print('b is greater')"
   ]
  },
  {
   "cell_type": "code",
   "execution_count": 67,
   "metadata": {},
   "outputs": [
    {
     "name": "stdout",
     "output_type": "stream",
     "text": [
      "Enter any number-999999999999999999\n",
      "Negative Number\n"
     ]
    }
   ],
   "source": [
    "num = int(input(\"Enter any number\"))\n",
    "\n",
    "if num > 0:\n",
    "    print(\"Positive Number\")\n",
    "elif num == 0:\n",
    "    print(\"Zero\")\n",
    "else:\n",
    "    print(\"Negative Number\")"
   ]
  },
  {
   "cell_type": "code",
   "execution_count": 69,
   "metadata": {},
   "outputs": [
    {
     "name": "stdout",
     "output_type": "stream",
     "text": [
      "Enter size5\n",
      "Enter shapeSquaRe\n",
      "Area of Square = 25\n"
     ]
    }
   ],
   "source": [
    "side = int(input(\"Enter size\"))\n",
    "shape = input(\"Enter shape\").lower()\n",
    "\n",
    "if shape == \"square\":\n",
    "    print(\"Area of Square =\", side**2)\n",
    "elif shape == \"circle\":\n",
    "    print(\"Area of circle =\", 3.14*(side**2))\n",
    "else:\n",
    "    print(\"Shape not recognizable\")"
   ]
  },
  {
   "cell_type": "code",
   "execution_count": 72,
   "metadata": {},
   "outputs": [
    {
     "name": "stdout",
     "output_type": "stream",
     "text": [
      "1\n",
      "2\n",
      "3\n",
      "4\n",
      "5\n",
      "6\n"
     ]
    }
   ],
   "source": [
    "i = 1\n",
    "while i <= 6:\n",
    "    print(i)\n",
    "    i += 1"
   ]
  },
  {
   "cell_type": "code",
   "execution_count": 73,
   "metadata": {},
   "outputs": [
    {
     "name": "stdout",
     "output_type": "stream",
     "text": [
      "1\n",
      "2\n",
      "3\n"
     ]
    }
   ],
   "source": [
    "i = 1\n",
    "while i <= 6:\n",
    "    print(i)\n",
    "    if i == 3:\n",
    "        break\n",
    "    i += 1"
   ]
  },
  {
   "cell_type": "code",
   "execution_count": 79,
   "metadata": {},
   "outputs": [
    {
     "name": "stdout",
     "output_type": "stream",
     "text": [
      "1\n",
      "2\n",
      "4\n",
      "5\n",
      "6\n"
     ]
    }
   ],
   "source": [
    "i = 1\n",
    "while i <= 6:\n",
    "    if i == 3:\n",
    "        i += 1\n",
    "        continue\n",
    "    print(i)\n",
    "    i += 1"
   ]
  },
  {
   "cell_type": "code",
   "execution_count": 81,
   "metadata": {},
   "outputs": [
    {
     "name": "stdout",
     "output_type": "stream",
     "text": [
      "1\n",
      "2\n",
      "4\n",
      "5\n",
      "6\n"
     ]
    }
   ],
   "source": [
    "i = 0\n",
    "while i < 6:\n",
    "    i += 1\n",
    "    if i == 3:\n",
    "        continue\n",
    "    print(i)"
   ]
  },
  {
   "cell_type": "code",
   "execution_count": 83,
   "metadata": {},
   "outputs": [
    {
     "name": "stdout",
     "output_type": "stream",
     "text": [
      "Enter n:99\n",
      "The sum is 4950\n"
     ]
    }
   ],
   "source": [
    "n = int(input(\"Enter n:\"))\n",
    "\n",
    "add = 0\n",
    "i = 1\n",
    "\n",
    "while i <= n:\n",
    "    add += i\n",
    "    i += 1\n",
    "    \n",
    "print(\"The sum is\", add)"
   ]
  },
  {
   "cell_type": "markdown",
   "metadata": {},
   "source": [
    "####A student will not be allowed to sit in exam if his/her attendance is less than 75%.Take following input from user\n",
    "->No. of classes held\n",
    "-> No. of classes attended.\n",
    "-> print (percentage of class)\n",
    "-> is student is allowed to sit in exam or not.\n",
    "small modification: reason is medical or not"
   ]
  },
  {
   "cell_type": "code",
   "execution_count": 84,
   "metadata": {},
   "outputs": [],
   "source": [
    "class_held = int(input(\"No. of classes held\\n\"))\n",
    "class_attend = int(input(\"No. of classes attended\\n\"))\n",
    "\n",
    "attendance = class_attend/class_held"
   ]
  }
 ],
 "metadata": {
  "kernelspec": {
   "display_name": "Python 3",
   "language": "python",
   "name": "python3"
  },
  "language_info": {
   "codemirror_mode": {
    "name": "ipython",
    "version": 3
   },
   "file_extension": ".py",
   "mimetype": "text/x-python",
   "name": "python",
   "nbconvert_exporter": "python",
   "pygments_lexer": "ipython3",
   "version": "3.8.3"
  }
 },
 "nbformat": 4,
 "nbformat_minor": 4
}
