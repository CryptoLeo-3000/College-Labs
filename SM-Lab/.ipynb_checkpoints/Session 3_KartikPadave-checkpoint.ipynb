{
 "cells": [
  {
   "cell_type": "code",
   "execution_count": 1,
   "metadata": {},
   "outputs": [],
   "source": [
    "#Python Collections (Arrays)\n",
    "#There are four collection data types in the Python programming language:\n",
    "\n",
    "#1. List is a collection which is ordered and changeable. Allows duplicate members.\n",
    "#2. Tuple is a collection which is ordered and unchangeable. Allows duplicate members.\n",
    "#3. Set is a collection which is unordered and unindexed. No duplicate members.\n",
    "#4. Dictionary is a collection which is unordered, changeable and indexed. No duplicate members."
   ]
  },
  {
   "cell_type": "code",
   "execution_count": 2,
   "metadata": {},
   "outputs": [
    {
     "name": "stdout",
     "output_type": "stream",
     "text": [
      "['apple', 'banana', 'cherry']\n"
     ]
    }
   ],
   "source": [
    "#List\n",
    "#A list is a collection which is ordered and changeable. In Python lists are written with square brackets.\n",
    "\n",
    "#Create a List:\n",
    "thislist = ['apple', 'banana', 'cherry']\n",
    "print(thislist)"
   ]
  },
  {
   "cell_type": "code",
   "execution_count": 3,
   "metadata": {},
   "outputs": [
    {
     "name": "stdout",
     "output_type": "stream",
     "text": [
      "banana\n"
     ]
    }
   ],
   "source": [
    "#Access Items\n",
    "#You access the list items by referring to the index number:\n",
    "#Remember that the first item has index 0.\n",
    "#Print the second item of the list:\n",
    "\n",
    "print(thislist[1])"
   ]
  },
  {
   "cell_type": "code",
   "execution_count": 4,
   "metadata": {},
   "outputs": [
    {
     "name": "stdout",
     "output_type": "stream",
     "text": [
      "['cherry', 'orange', 'kiwi']\n"
     ]
    }
   ],
   "source": [
    "#Range of Indexes\n",
    "#You can specify a range of indexes by specifying where to start and where to end the range.\n",
    "#When specifying a range, the return value will be a new list with the specified items.\n",
    "\n",
    "#Return the third, fourth, and fifth item:\n",
    "\n",
    "thislist = ['apple', 'banana', 'cherry', 'orange', 'kiwi', 'melon', 'mango']\n",
    "print(thislist[2:5])"
   ]
  },
  {
   "cell_type": "code",
   "execution_count": 5,
   "metadata": {},
   "outputs": [
    {
     "name": "stdout",
     "output_type": "stream",
     "text": [
      "[0, 5, 4, 6]\n"
     ]
    }
   ],
   "source": [
    "#Change elements in list\n",
    "# can use assignment operator (=)\n",
    "# to change an item or a range of items\n",
    "\n",
    "# Solve\n",
    "# Create list of 4 even numbers\n",
    "\n",
    "even_no = [0, 2, 4, 6]\n",
    "even_no[1] = 5\n",
    "print(even_no)"
   ]
  },
  {
   "cell_type": "code",
   "execution_count": 6,
   "metadata": {},
   "outputs": [
    {
     "name": "stdout",
     "output_type": "stream",
     "text": [
      "[0, 5, 4, 6, 8, 10, 12, 14]\n"
     ]
    }
   ],
   "source": [
    "# Change elements in a list using append() and extend()\n",
    "# can add one item to a list using append()\n",
    "# add several items using extend()\n",
    "\n",
    "even_no.append(8)\n",
    "even_no.extend([10, 12, 14])\n",
    "print(even_no)"
   ]
  },
  {
   "cell_type": "code",
   "execution_count": 7,
   "metadata": {},
   "outputs": [
    {
     "name": "stdout",
     "output_type": "stream",
     "text": [
      "[15, 30, 45, 60, 75]\n",
      "[15, 30, 15, 30, 15, 30]\n"
     ]
    }
   ],
   "source": [
    "# Concatenation\n",
    "# Use + operator to combine two lists.\n",
    "# This is also called concatenation.\n",
    "# * operator repeats a list for the given number of times.\n",
    "\n",
    "# Solve\n",
    "# Create a list of 5 numbers divisible by 3\n",
    "\n",
    "divisible_three_one = [15, 30]\n",
    "divisible_three_two = [45, 60, 75]\n",
    "divisible_three = divisible_three_one+divisible_three_two\n",
    "print(divisible_three)\n",
    "\n",
    "divisible = divisible_three_one*3\n",
    "print(divisible)"
   ]
  },
  {
   "cell_type": "code",
   "execution_count": 11,
   "metadata": {},
   "outputs": [
    {
     "name": "stdout",
     "output_type": "stream",
     "text": [
      "['Hello', 'World', '!']\n",
      "['Hello', '!']\n",
      "[]\n"
     ]
    }
   ],
   "source": [
    "# Delete or Remove elements\n",
    "# can delete one or more items from a list using the keyword .del\n",
    "\n",
    "# Solve\n",
    "# Create a word\n",
    "\n",
    "just_word = ['Hello', 'World', '!']\n",
    "print(just_word)\n",
    "\n",
    "del just_word[1]\n",
    "print(just_word)\n",
    "\n",
    "del just_word[0:2]\n",
    "print(just_word)"
   ]
  },
  {
   "cell_type": "code",
   "execution_count": 12,
   "metadata": {},
   "outputs": [
    {
     "name": "stdout",
     "output_type": "stream",
     "text": [
      "['p', 'y', 't', 'h', 'o', 'n', 's']\n",
      "['p', 'y', 'h', 'o', 'n', 's']\n",
      "['p', 'y', 'h', 'o', 'n']\n",
      "['p', 'y', 'o', 'n']\n",
      "[]\n"
     ]
    }
   ],
   "source": [
    "# Remove method\n",
    "\n",
    "# can use remove() method to remove the given item or\n",
    "\n",
    "# pop() method to remove an item at the given index.\n",
    "\n",
    "# pop() method removes and returns the last item if index is not \n",
    "# provided implement lists as stacks (first in, last out data structure)\n",
    "\n",
    "# clear() method to empty a list\n",
    "\n",
    "python = ['p','y','t','h','o','n','s']\n",
    "print(python)\n",
    "\n",
    "python.remove('t')\n",
    "print(python)\n",
    "\n",
    "python.pop()\n",
    "print(python)\n",
    "\n",
    "python.pop(2)\n",
    "print(python)\n",
    "\n",
    "python.clear()\n",
    "print(python)"
   ]
  },
  {
   "cell_type": "code",
   "execution_count": 13,
   "metadata": {},
   "outputs": [
    {
     "name": "stdout",
     "output_type": "stream",
     "text": [
      "[25, 11, 9, 8, 7, 6, 5, 3]\n",
      "[3, 5, 6, 7, 8, 9, 11, 25]\n",
      "25\n",
      "3\n",
      "8\n",
      "[3, 5, 6, 7, 8, 9, 11, 25]\n",
      "74\n"
     ]
    }
   ],
   "source": [
    "my_number = [3 ,8 ,7, 5, 9, 6, 11, 25]\n",
    "my_number.sort(reverse = True)\n",
    "print(my_number)\n",
    "\n",
    "my_number.reverse()\n",
    "print(my_number)\n",
    "\n",
    "print(max(my_number))\n",
    "print(min(my_number))\n",
    "print(len(my_number))\n",
    "print(sorted(my_number))\n",
    "print(sum(my_number))"
   ]
  },
  {
   "cell_type": "code",
   "execution_count": 14,
   "metadata": {},
   "outputs": [
    {
     "name": "stdout",
     "output_type": "stream",
     "text": [
      "True\n"
     ]
    }
   ],
   "source": [
    "# any() method\n",
    "digits = [0, 1, 2, 3, 4, 5, 6, 7, 8, 9]\n",
    "x = any(digits)\n",
    "print(x)"
   ]
  },
  {
   "cell_type": "code",
   "execution_count": 16,
   "metadata": {},
   "outputs": [
    {
     "name": "stdout",
     "output_type": "stream",
     "text": [
      "True\n"
     ]
    }
   ],
   "source": [
    "# all() method\n",
    "lie = [0, 1, 2]\n",
    "y = all(lie)\n",
    "print(y)"
   ]
  },
  {
   "cell_type": "code",
   "execution_count": 73,
   "metadata": {},
   "outputs": [
    {
     "name": "stdout",
     "output_type": "stream",
     "text": [
      "[1, 3, 9, 27, 81, 243, 729, 2187, 6561, 19683]\n"
     ]
    }
   ],
   "source": [
    "# List comprehension is an elegant and concise way to create new list\n",
    "# from an existing list in Python.\n",
    "# List comprehension consists of an expression followed by for\n",
    "# statement inside square brackets.\n",
    "\n",
    "# Solve\n",
    "# Make a list of with each element increasing by power 3\n",
    "power3 = [3**x for x in range(10)]\n",
    "print(power3)"
   ]
  },
  {
   "cell_type": "code",
   "execution_count": 74,
   "metadata": {},
   "outputs": [
    {
     "name": "stdout",
     "output_type": "stream",
     "text": [
      "True\n",
      "False\n",
      "True\n"
     ]
    }
   ],
   "source": [
    "# Solve\n",
    "# Create a list call alpha\n",
    "\n",
    "word = ['p', 'y', 't', 'h', 'o', 'n']\n",
    "print('y' in word)\n",
    "print('a' in word)\n",
    "print('c' not in word)"
   ]
  },
  {
   "cell_type": "code",
   "execution_count": 77,
   "metadata": {},
   "outputs": [
    {
     "name": "stdout",
     "output_type": "stream",
     "text": [
      "I like apple\n",
      "I like banana\n",
      "I like orange\n",
      "I like apple\n",
      "I like banana\n",
      "I like cherry\n",
      "I like orange\n",
      "I like kiwi\n",
      "I like melon\n",
      "I like mango\n"
     ]
    }
   ],
   "source": [
    "# Using a for loop we can iterate through each item in a list\n",
    "\n",
    "thislist = ['apple', 'banana', 'cherry', 'orange', 'kiwi', 'melon', 'mango']\n",
    "for fruits in ['apple', 'banana', 'orange']:\n",
    "    print('I like', fruits)\n",
    "    \n",
    "for fruits in thislist:\n",
    "    print('I like', fruits)"
   ]
  },
  {
   "cell_type": "code",
   "execution_count": null,
   "metadata": {},
   "outputs": [],
   "source": []
  },
  {
   "cell_type": "code",
   "execution_count": 103,
   "metadata": {},
   "outputs": [
    {
     "name": "stdout",
     "output_type": "stream",
     "text": [
      "[10, 24, 21, 52]\n",
      "Total Age: 107\n",
      "Mean Age: 26.75\n"
     ]
    }
   ],
   "source": [
    "'''\n",
    "Solve\n",
    "\n",
    "Create a list of ages of four family members at your home.\n",
    "Store the ages in a variable called age.\n",
    "Find the maximum age and store it in a variable called max_age.\n",
    "Change your age in age to 24.\n",
    "Display the new list age.\n",
    "Calculate the sum of the ages and save it in a variable called\n",
    "total_age.\n",
    "Calculate the mean of the ages and store it in a variable called\n",
    "mean_age. (hint: sum/number of elements)\n",
    "'''\n",
    "\n",
    "age = [10, 18, 21, 52]\n",
    "max_age = max(age)\n",
    "age[1] = 24\n",
    "print(age)\n",
    "total_age = sum(age)\n",
    "mean_age = total_age/len(age)\n",
    "\n",
    "print(\"Total Age:\",total_age)\n",
    "print('Mean Age:',mean_age)"
   ]
  },
  {
   "cell_type": "code",
   "execution_count": 79,
   "metadata": {},
   "outputs": [
    {
     "name": "stdout",
     "output_type": "stream",
     "text": [
      "('apple', 'banana', 'cherry', 'orange', 'kiwi', 'melon', 'mango')\n"
     ]
    }
   ],
   "source": [
    "#Python Tuples\n",
    "#A tuple is a collection which is ordered and unchangeable. In Python tuples are written with round brackets.\n",
    "\n",
    "#Create a Tuple:\n",
    "thistuple = ('apple', 'banana', 'cherry', 'orange', 'kiwi', 'melon', 'mango')\n",
    "print(thistuple)"
   ]
  },
  {
   "cell_type": "code",
   "execution_count": 80,
   "metadata": {},
   "outputs": [
    {
     "name": "stdout",
     "output_type": "stream",
     "text": [
      "banana\n"
     ]
    }
   ],
   "source": [
    "#Access Tuple Items\n",
    "#You can access tuple items by referring to the index number, inside square brackets:\n",
    "\n",
    "#Print the second item in the tuple:\n",
    "print(thistuple[1])"
   ]
  },
  {
   "cell_type": "code",
   "execution_count": 83,
   "metadata": {},
   "outputs": [
    {
     "name": "stdout",
     "output_type": "stream",
     "text": [
      "('cherry', 'orange', 'kiwi')\n"
     ]
    }
   ],
   "source": [
    "#Range of Indexes\n",
    "#You can specify a range of indexes by specifying where to start and where to end the range.\n",
    "#When specifying a range, the return value will be a new tuple with the specified items.\n",
    "\n",
    "#Return the third, fourth, and fifth item:\n",
    "print(thistuple[2:5])"
   ]
  },
  {
   "cell_type": "code",
   "execution_count": 89,
   "metadata": {},
   "outputs": [
    {
     "name": "stdout",
     "output_type": "stream",
     "text": [
      "('apple', 'banana', 'berry', 'orange', 'kiwi', 'melon', 'mango')\n"
     ]
    }
   ],
   "source": [
    "#Change Tuple Values\n",
    "#Once a tuple is created, you cannot change its values. Tuples are unchangeable, or immutable as it also is called.\n",
    "\n",
    "#But there is a workaround. You can convert the tuple into a list, change the list, and convert the list back into a tuple.\n",
    "#Convert the tuple into a list to be able to change it:\n",
    "\n",
    "new_list = list(thistuple)\n",
    "new_list[2] = 'berry'\n",
    "thistuple = tuple(new_list)\n",
    "print(thistuple)"
   ]
  },
  {
   "cell_type": "code",
   "execution_count": 90,
   "metadata": {},
   "outputs": [
    {
     "name": "stdout",
     "output_type": "stream",
     "text": [
      "apple\n",
      "banana\n",
      "berry\n",
      "orange\n",
      "kiwi\n",
      "melon\n",
      "mango\n"
     ]
    }
   ],
   "source": [
    "#Loop Through a Tuple\n",
    "#You can loop through the tuple items by using a for loop.\n",
    "\n",
    "#Iterate through the items and print the values:\n",
    "\n",
    "for fruits in thistuple:\n",
    "    print(fruits)"
   ]
  },
  {
   "cell_type": "code",
   "execution_count": 91,
   "metadata": {},
   "outputs": [
    {
     "name": "stdout",
     "output_type": "stream",
     "text": [
      "True\n"
     ]
    }
   ],
   "source": [
    "#Check if Item Exists\n",
    "#To determine if a specified item is present in a tuple use the in keyword:\n",
    "\n",
    "#Check if \"apple\" is present in the tuple:\n",
    "\n",
    "print('apple' in thistuple)"
   ]
  },
  {
   "cell_type": "code",
   "execution_count": 92,
   "metadata": {},
   "outputs": [
    {
     "name": "stdout",
     "output_type": "stream",
     "text": [
      "7\n"
     ]
    }
   ],
   "source": [
    "#Tuple Length\n",
    "#To determine how many items a tuple has, use the len() method:\n",
    "\n",
    "print(len(thistuple))"
   ]
  },
  {
   "cell_type": "code",
   "execution_count": 95,
   "metadata": {},
   "outputs": [
    {
     "name": "stdout",
     "output_type": "stream",
     "text": [
      "('apple', 'banana', 'berry', 'orange', 'kiwi', 'melon', 'mango', 1, 2, 3, 4, 5, 8, 2, 3, 2, 4)\n"
     ]
    }
   ],
   "source": [
    "#Join Two Tuples\n",
    "#To join two or more tuples you can use the + operator:\n",
    "\n",
    "tupl2 = (1, 2, 3, 4, 5, 8, 2, 3, 2, 4)\n",
    "tuple_fruit = thistuple + tupl2\n",
    "print(tuple_fruit)"
   ]
  },
  {
   "cell_type": "code",
   "execution_count": 96,
   "metadata": {},
   "outputs": [
    {
     "name": "stdout",
     "output_type": "stream",
     "text": [
      "3\n"
     ]
    }
   ],
   "source": [
    "#Python Tuple count() Method\n",
    "#Return the number of times the value 5 appears in the tuple:\n",
    "print(tupl2.count(2))"
   ]
  },
  {
   "cell_type": "code",
   "execution_count": 97,
   "metadata": {},
   "outputs": [
    {
     "data": {
      "text/plain": [
       "3"
      ]
     },
     "execution_count": 97,
     "metadata": {},
     "output_type": "execute_result"
    }
   ],
   "source": [
    "#Python Tuple index() Method\n",
    "#Search for the first occurrence of the value 8, and return its position:\n",
    "\n",
    "tupl2.index(4)"
   ]
  },
  {
   "cell_type": "code",
   "execution_count": null,
   "metadata": {},
   "outputs": [],
   "source": []
  }
 ],
 "metadata": {
  "kernelspec": {
   "display_name": "Python 3",
   "language": "python",
   "name": "python3"
  },
  "language_info": {
   "codemirror_mode": {
    "name": "ipython",
    "version": 3
   },
   "file_extension": ".py",
   "mimetype": "text/x-python",
   "name": "python",
   "nbconvert_exporter": "python",
   "pygments_lexer": "ipython3",
   "version": "3.8.3"
  }
 },
 "nbformat": 4,
 "nbformat_minor": 4
}
