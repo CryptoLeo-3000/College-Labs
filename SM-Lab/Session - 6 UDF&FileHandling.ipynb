{
 "cells": [
  {
   "cell_type": "code",
   "execution_count": 1,
   "metadata": {},
   "outputs": [
    {
     "name": "stdout",
     "output_type": "stream",
     "text": [
      "Hello, Walter White. Good Afternoon\n"
     ]
    }
   ],
   "source": [
    "def greet(name):\n",
    "    '''\n",
    "    This function greets to the person passed inas parameter.\n",
    "    '''\n",
    "    print(\"Hello, \"+name+\". Good Afternoon\")\n",
    "    \n",
    "greet(\"Walter White\")"
   ]
  },
  {
   "cell_type": "code",
   "execution_count": 2,
   "metadata": {},
   "outputs": [
    {
     "name": "stdout",
     "output_type": "stream",
     "text": [
      "The youngest child is Kiya\n"
     ]
    }
   ],
   "source": [
    "#Arbitary arguements, *args\n",
    "def myfunction(*kids):\n",
    "    print(\"The youngest child is \"+kids[0])\n",
    "    \n",
    "myfunction(\"Kiya\", \"Kiwi\")"
   ]
  },
  {
   "cell_type": "code",
   "execution_count": 3,
   "metadata": {},
   "outputs": [
    {
     "name": "stdout",
     "output_type": "stream",
     "text": [
      "The youngest child is Twinkle\n"
     ]
    }
   ],
   "source": [
    "def childfunction(child3, child1, child2):\n",
    "    print(\"The youngest child is \"+child3)\n",
    "    \n",
    "childfunction(child1 = \"Kiya\", child2=\"Kiwi\", child3=\"Twinkle\")"
   ]
  },
  {
   "cell_type": "code",
   "execution_count": 4,
   "metadata": {},
   "outputs": [
    {
     "name": "stdout",
     "output_type": "stream",
     "text": [
      "My last name is pinkman14\n"
     ]
    }
   ],
   "source": [
    "#Keyword Arguement, **kwargs\n",
    "\n",
    "def myfunctin(**kid):\n",
    "    print(\"My last name is \"+kid[\"lname\"]+kid[\"age\"])\n",
    "    \n",
    "myfunctin(fname=\"jesse\", lname=\"pinkman\", age=\"14\")"
   ]
  },
  {
   "cell_type": "code",
   "execution_count": 5,
   "metadata": {},
   "outputs": [
    {
     "name": "stdout",
     "output_type": "stream",
     "text": [
      "I am from India\n",
      "I am from Norway\n"
     ]
    }
   ],
   "source": [
    "#Default value\n",
    "def myCountry(country=\"Norway\"):\n",
    "    print(\"I am from \"+country)\n",
    "    \n",
    "myCountry(\"India\")\n",
    "myCountry()"
   ]
  },
  {
   "cell_type": "code",
   "execution_count": 6,
   "metadata": {},
   "outputs": [
    {
     "name": "stdout",
     "output_type": "stream",
     "text": [
      "apple\n",
      "samsung\n",
      "google\n"
     ]
    }
   ],
   "source": [
    "phonelist = [\"apple\",\"samsung\", \"google\"]\n",
    "\n",
    "def phfunction(phone):\n",
    "    for x in phonelist:\n",
    "        print(x)\n",
    "        \n",
    "phfunction(phonelist)"
   ]
  },
  {
   "cell_type": "code",
   "execution_count": 7,
   "metadata": {},
   "outputs": [
    {
     "data": {
      "text/plain": [
       "30"
      ]
     },
     "execution_count": 7,
     "metadata": {},
     "output_type": "execute_result"
    }
   ],
   "source": [
    "#Return value\n",
    "def fivemultiple(num):\n",
    "    return 5*num\n",
    "    \n",
    "fivemultiple(6)"
   ]
  },
  {
   "cell_type": "code",
   "execution_count": 8,
   "metadata": {},
   "outputs": [],
   "source": [
    "def nullfunction():\n",
    "    pass"
   ]
  },
  {
   "cell_type": "code",
   "execution_count": 9,
   "metadata": {},
   "outputs": [
    {
     "name": "stdout",
     "output_type": "stream",
     "text": [
      "Odd number\n",
      "Even number\n"
     ]
    }
   ],
   "source": [
    "def evenodd(x):\n",
    "    if x%2 == 0:\n",
    "        print(\"Even number\")\n",
    "    else:\n",
    "        print(\"Odd number\")\n",
    "        \n",
    "evenodd(5)\n",
    "evenodd(6)"
   ]
  },
  {
   "cell_type": "code",
   "execution_count": 10,
   "metadata": {},
   "outputs": [
    {
     "name": "stdout",
     "output_type": "stream",
     "text": [
      "['a', 'e', 'l', 'p']\n"
     ]
    }
   ],
   "source": [
    "#WAP that returns a list of characters of two strings have on common\n",
    "def common(string1, string2):\n",
    "    common = []\n",
    "    for w in string1.lower():\n",
    "        for wd in string2.lower():\n",
    "            if wd == w:\n",
    "                common.append(w)\n",
    "                \n",
    "    common = set(common)\n",
    "    common = sorted(list(common))\n",
    "    print(common)\n",
    "    \n",
    "common(\"Apple\", \"Pineapple\")"
   ]
  },
  {
   "cell_type": "code",
   "execution_count": 11,
   "metadata": {},
   "outputs": [
    {
     "name": "stdout",
     "output_type": "stream",
     "text": [
      "22.6 : 72.68\n",
      "32.5 : 90.5\n",
      "24.6 : 76.28\n"
     ]
    }
   ],
   "source": [
    "def fahrenheit(T_in_celcius):\n",
    "    \"\"\"return the temperature in degrees Farhenheit\"\"\"\n",
    "    return (T_in_celcius * 9 / 5) + 32\n",
    "\n",
    " \n",
    "\n",
    "for t in (22.6, 32.5, 24.6):\n",
    "    print(t, \":\" , fahrenheit(t))"
   ]
  },
  {
   "cell_type": "code",
   "execution_count": 12,
   "metadata": {},
   "outputs": [
    {
     "name": "stdout",
     "output_type": "stream",
     "text": [
      "['a', 'e', 'l', 'p']\n"
     ]
    }
   ],
   "source": [
    "def common(string1, string2):\n",
    "    common = []\n",
    "    for w in string1.lower():\n",
    "        if w in string2.lower():\n",
    "            common.append(w)\n",
    "                \n",
    "    common = set(common)\n",
    "    common = sorted(list(common))\n",
    "    print(common)\n",
    "    \n",
    "common(\"Apple\", \"Pineapple\")"
   ]
  },
  {
   "cell_type": "markdown",
   "metadata": {},
   "source": [
    "## Fie Handling"
   ]
  },
  {
   "cell_type": "code",
   "execution_count": 13,
   "metadata": {},
   "outputs": [],
   "source": [
    "#Python has several functions for reading, updating, creating adn deleting files.\n",
    "\n",
    "#open() function is used to open files but it takes two parameter\n",
    "#there are four different modes for opening a file\n",
    "#'r' - Read - default value, opens a file for reading\n",
    "#'a' - Append - opens a file for appending\n",
    "#'w' - Write - Opens a file for writing\n",
    "#'x' - Create - Creates a file"
   ]
  },
  {
   "cell_type": "code",
   "execution_count": 14,
   "metadata": {},
   "outputs": [],
   "source": [
    "f = open(\"MyFile.txt\", \"r\")"
   ]
  },
  {
   "cell_type": "code",
   "execution_count": 15,
   "metadata": {},
   "outputs": [],
   "source": [
    "f.read()\n",
    "f.close()"
   ]
  },
  {
   "cell_type": "code",
   "execution_count": 16,
   "metadata": {},
   "outputs": [
    {
     "name": "stdout",
     "output_type": "stream",
     "text": [
      "This \n"
     ]
    }
   ],
   "source": [
    "f = open(\"MyFile.txt\", \"r\")\n",
    "print(f.read(5))\n",
    "f.close()"
   ]
  },
  {
   "cell_type": "code",
   "execution_count": 20,
   "metadata": {},
   "outputs": [
    {
     "name": "stdout",
     "output_type": "stream",
     "text": [
      "This is the new content\n",
      "\n"
     ]
    }
   ],
   "source": [
    "f = open(\"MyFile.txt\", \"r\")\n",
    "print(f.readline())\n",
    "print(f.readline())\n",
    "f.close()"
   ]
  },
  {
   "cell_type": "code",
   "execution_count": 21,
   "metadata": {},
   "outputs": [],
   "source": [
    "f = open(\"MyFile.txt\", \"a\")\n",
    "f.write(\"\\nNow the file has more content\")\n",
    "f.close()"
   ]
  },
  {
   "cell_type": "code",
   "execution_count": 22,
   "metadata": {},
   "outputs": [
    {
     "name": "stdout",
     "output_type": "stream",
     "text": [
      "This is the new content\n",
      "Now the file has more content\n"
     ]
    }
   ],
   "source": [
    "f = open(\"MyFile.txt\", \"r\")\n",
    "print(f.read())\n",
    "f.close()"
   ]
  },
  {
   "cell_type": "code",
   "execution_count": 23,
   "metadata": {},
   "outputs": [],
   "source": [
    "f = open(\"MyFile.txt\", \"w\")\n",
    "f.write(\"This is the new content\")\n",
    "f.close()"
   ]
  },
  {
   "cell_type": "code",
   "execution_count": 24,
   "metadata": {},
   "outputs": [],
   "source": [
    "#f = open(\"MyFile.txt\", \"r\")\n",
    "#print(f.read())\n",
    "f.close()"
   ]
  },
  {
   "cell_type": "code",
   "execution_count": 25,
   "metadata": {},
   "outputs": [],
   "source": [
    "import os\n",
    "os.remove(\"MyFile.txt\")"
   ]
  },
  {
   "cell_type": "code",
   "execution_count": null,
   "metadata": {},
   "outputs": [],
   "source": []
  },
  {
   "cell_type": "code",
   "execution_count": null,
   "metadata": {},
   "outputs": [],
   "source": []
  }
 ],
 "metadata": {
  "kernelspec": {
   "display_name": "Python 3",
   "language": "python",
   "name": "python3"
  },
  "language_info": {
   "codemirror_mode": {
    "name": "ipython",
    "version": 3
   },
   "file_extension": ".py",
   "mimetype": "text/x-python",
   "name": "python",
   "nbconvert_exporter": "python",
   "pygments_lexer": "ipython3",
   "version": "3.8.3"
  }
 },
 "nbformat": 4,
 "nbformat_minor": 4
}
