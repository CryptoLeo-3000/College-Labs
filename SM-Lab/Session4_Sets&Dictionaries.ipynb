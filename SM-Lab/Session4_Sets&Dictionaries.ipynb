{
 "cells": [
  {
   "cell_type": "code",
   "execution_count": 1,
   "metadata": {},
   "outputs": [
    {
     "name": "stdout",
     "output_type": "stream",
     "text": [
      "{1, 2, 3}\n",
      "<class 'set'>\n",
      "{2.0, (1, 2, 3), 'Hello'}\n",
      "<class 'set'>\n"
     ]
    }
   ],
   "source": [
    "num = {1, 2, 3}\n",
    "print(num)\n",
    "print(type(num))\n",
    "\n",
    "num1 = {2.0, \"Hello\", (1, 2, 3)}\n",
    "print(num1)\n",
    "print(type(num1))"
   ]
  },
  {
   "cell_type": "code",
   "execution_count": 10,
   "metadata": {},
   "outputs": [
    {
     "name": "stdout",
     "output_type": "stream",
     "text": [
      "<class 'dict'>\n",
      "<class 'set'>\n",
      "{'y', 'P', 'o', 't', 'h', 'n'}\n"
     ]
    }
   ],
   "source": [
    "a = {}\n",
    "print(type(a))\n",
    "\n",
    "x = set()\n",
    "print(type(x))\n",
    "\n",
    "y = set(\"Python\")\n",
    "print(y)"
   ]
  },
  {
   "cell_type": "code",
   "execution_count": 14,
   "metadata": {},
   "outputs": [
    {
     "name": "stdout",
     "output_type": "stream",
     "text": [
      "{1, 2, 3, 4, 5, 6}\n",
      "{2, 3, (5, 6)}\n"
     ]
    }
   ],
   "source": [
    "numset = {1, 2, 5, 6, 3, 2, 1, 1, 4, 5, 3}\n",
    "print(numset)\n",
    "\n",
    "'''\n",
    "listset = {2, 3, [5, 6]}\n",
    "print(listset)\n",
    "'''\n",
    "\n",
    "tupleset = {2, 3, (5, 6)}\n",
    "print(tupleset)"
   ]
  },
  {
   "cell_type": "code",
   "execution_count": 15,
   "metadata": {},
   "outputs": [
    {
     "name": "stdout",
     "output_type": "stream",
     "text": [
      "{1, 2, 3, 4, 5, 6, 10}\n",
      "{1, 2, 3, 4, 5, 6, 7, 8, 9, 10}\n",
      "{1, 2, 3, 4, 5, 6, 7, 8, 9, 10, 11, 12, 13, 14, 15}\n"
     ]
    }
   ],
   "source": [
    "numset.add(10)\n",
    "print(numset)\n",
    "\n",
    "numset.update([7, 8, 9])\n",
    "print(numset)\n",
    "\n",
    "numset.update([11, 12], {13, 14, 15})\n",
    "print(numset)"
   ]
  },
  {
   "cell_type": "code",
   "execution_count": 16,
   "metadata": {},
   "outputs": [
    {
     "name": "stdout",
     "output_type": "stream",
     "text": [
      "{1, 2, 3, 4, 5, 6, 7, 8, 9, 10, 12, 13, 14, 15}\n",
      "{1, 2, 3, 4, 5, 6, 8, 9, 10, 12, 13, 14, 15}\n"
     ]
    }
   ],
   "source": [
    "numset.discard(11)\n",
    "print(numset)\n",
    "\n",
    "numset.remove(7)\n",
    "print(numset)"
   ]
  },
  {
   "cell_type": "code",
   "execution_count": 17,
   "metadata": {},
   "outputs": [
    {
     "name": "stdout",
     "output_type": "stream",
     "text": [
      "{'P', 'o', 't', 'h', 'n'}\n",
      "set()\n",
      "set()\n"
     ]
    }
   ],
   "source": [
    "y.pop()\n",
    "print(y)\n",
    "\n",
    "y.clear()\n",
    "print(y)\n",
    "\n",
    "num.clear()\n",
    "print(num)"
   ]
  },
  {
   "cell_type": "code",
   "execution_count": 18,
   "metadata": {},
   "outputs": [
    {
     "name": "stdout",
     "output_type": "stream",
     "text": [
      "{1, 'a', 2, 'b', 3, 'c'}\n"
     ]
    }
   ],
   "source": [
    "set1 = {'a', 'b', 'c'}\n",
    "set2 = {1, 2, 3}\n",
    "set3 = set1.union(set2)\n",
    "print(set3)"
   ]
  },
  {
   "cell_type": "code",
   "execution_count": 34,
   "metadata": {},
   "outputs": [
    {
     "name": "stdout",
     "output_type": "stream",
     "text": [
      "{'peach', 'apple', 'cherry'}\n",
      "<class 'set'>\n"
     ]
    }
   ],
   "source": [
    "fruitset = set((\"apple\", \"cherry\", \"peach\"))\n",
    "print(fruitset)\n",
    "print(type(fruitset))"
   ]
  },
  {
   "cell_type": "code",
   "execution_count": 35,
   "metadata": {},
   "outputs": [
    {
     "name": "stdout",
     "output_type": "stream",
     "text": [
      "{'apple'}\n"
     ]
    }
   ],
   "source": [
    "x = {\"apple\", \"cherry\", \"peach\"}\n",
    "y = {\"microsoft\", \"google\", \"apple\"}\n",
    "\n",
    "z = x.intersection(y)\n",
    "print(z)"
   ]
  },
  {
   "cell_type": "code",
   "execution_count": 36,
   "metadata": {},
   "outputs": [
    {
     "name": "stdout",
     "output_type": "stream",
     "text": [
      "{'cherry', 'microsoft', 'peach', 'google'}\n"
     ]
    }
   ],
   "source": [
    "sd = x.symmetric_difference(y)\n",
    "print(sd)"
   ]
  },
  {
   "cell_type": "code",
   "execution_count": 37,
   "metadata": {},
   "outputs": [
    {
     "name": "stdout",
     "output_type": "stream",
     "text": [
      "{'peach', 'cherry'}\n"
     ]
    }
   ],
   "source": [
    "d = x.difference(y)\n",
    "print(d)"
   ]
  },
  {
   "cell_type": "code",
   "execution_count": 38,
   "metadata": {},
   "outputs": [
    {
     "name": "stdout",
     "output_type": "stream",
     "text": [
      "False\n"
     ]
    }
   ],
   "source": [
    "idis = x.isdisjoint(y)\n",
    "print(idis)"
   ]
  },
  {
   "cell_type": "code",
   "execution_count": 39,
   "metadata": {},
   "outputs": [
    {
     "name": "stdout",
     "output_type": "stream",
     "text": [
      "{'fname': 'Kartik', 'lname': 'Padave', 'address': 'Kendriya Vihar', 91: 81081}\n"
     ]
    }
   ],
   "source": [
    "myDict = {\n",
    "    \"fname\":\"Kartik\",\n",
    "    \"lname\":\"Padave\",\n",
    "    \"address\":\"Kendriya Vihar\",\n",
    "    91: 81081\n",
    "}\n",
    "print(myDict)"
   ]
  },
  {
   "cell_type": "code",
   "execution_count": 40,
   "metadata": {},
   "outputs": [
    {
     "name": "stdout",
     "output_type": "stream",
     "text": [
      "Kartik\n",
      "Kendriya Vihar\n"
     ]
    }
   ],
   "source": [
    "x = myDict[\"fname\"]\n",
    "print(x)\n",
    "\n",
    "y = myDict[\"address\"]\n",
    "print(y)"
   ]
  },
  {
   "cell_type": "code",
   "execution_count": 41,
   "metadata": {},
   "outputs": [
    {
     "name": "stdout",
     "output_type": "stream",
     "text": [
      "{'fname': 'Kartik', 'lname': 'Padave', 'address': 'Malad', 91: 81081}\n",
      "{'fname': 'Kartik', 'lname': 'Padave', 'address': 'Malad', 91: 81081, 'email': 'padavekartik@gmail.com'}\n"
     ]
    }
   ],
   "source": [
    "myDict[\"address\"] = \"Malad\"\n",
    "print(myDict)\n",
    "\n",
    "myDict[\"email\"] = \"padavekartik@gmail.com\"\n",
    "print(myDict)"
   ]
  },
  {
   "cell_type": "code",
   "execution_count": 42,
   "metadata": {},
   "outputs": [
    {
     "name": "stdout",
     "output_type": "stream",
     "text": [
      "fname\n",
      "lname\n",
      "address\n",
      "91\n",
      "email\n",
      "---------\n",
      "Kartik\n",
      "Padave\n",
      "Malad\n",
      "81081\n",
      "padavekartik@gmail.com\n",
      "---------\n",
      "Kartik\n",
      "Padave\n",
      "Malad\n",
      "81081\n",
      "padavekartik@gmail.com\n"
     ]
    }
   ],
   "source": [
    "for x in myDict:\n",
    "    print(x)\n",
    "\n",
    "print(\"---------\")\n",
    "\n",
    "for x in myDict:\n",
    "    print(myDict[x])\n",
    "    \n",
    "print(\"---------\")\n",
    "\n",
    "for x in myDict.values():\n",
    "    print(x)"
   ]
  },
  {
   "cell_type": "code",
   "execution_count": 43,
   "metadata": {},
   "outputs": [
    {
     "name": "stdout",
     "output_type": "stream",
     "text": [
      "{'fname': 'Kartik', 'lname': 'Padave', 91: 81081, 'email': 'padavekartik@gmail.com'}\n"
     ]
    }
   ],
   "source": [
    "#myDict.pop(\"aDdress\")\n",
    "#print(myDict)\n",
    "\n",
    "del myDict[\"address\"]\n",
    "print(myDict)"
   ]
  },
  {
   "cell_type": "code",
   "execution_count": 44,
   "metadata": {},
   "outputs": [
    {
     "name": "stdout",
     "output_type": "stream",
     "text": [
      "{}\n"
     ]
    }
   ],
   "source": [
    "myDict.clear()\n",
    "print(myDict)"
   ]
  },
  {
   "cell_type": "code",
   "execution_count": 45,
   "metadata": {},
   "outputs": [
    {
     "name": "stdout",
     "output_type": "stream",
     "text": [
      "{'fname': 'Kartik', 'lname': 'Padave', 'address': 'Kendriya Vihar'}\n"
     ]
    }
   ],
   "source": [
    "thisDict = {\n",
    "    \"fname\":\"Kartik\",\n",
    "    \"lname\":\"Padave\",\n",
    "    \"address\":\"Kendriya Vihar\",\n",
    "}\n",
    "\n",
    "myDict = thisDict.copy()\n",
    "print(myDict)"
   ]
  },
  {
   "cell_type": "code",
   "execution_count": 46,
   "metadata": {},
   "outputs": [
    {
     "name": "stdout",
     "output_type": "stream",
     "text": [
      "{'child1': {'name': 'Kartik', 'year': 2001}, 'child2': {'name': 'Akash', 'year': '1995'}, 'child3': {'name': 'Arya', 'year': '2000'}}\n"
     ]
    }
   ],
   "source": [
    "myFamily = {\n",
    "    \"child1\": {\n",
    "        \"name\":\"Kartik\",\n",
    "        \"year\":2001\n",
    "    },\n",
    "    \"child2\": {\n",
    "        \"name\":\"Akash\",\n",
    "        \"year\":\"1995\"\n",
    "    },\n",
    "    \"child3\": {\n",
    "        \"name\":\"Arya\",\n",
    "        \"year\":\"2000\"\n",
    "    }\n",
    "}\n",
    "\n",
    "print(myFamily)"
   ]
  },
  {
   "cell_type": "code",
   "execution_count": 47,
   "metadata": {},
   "outputs": [
    {
     "name": "stdout",
     "output_type": "stream",
     "text": [
      "{'child1': {'name': 'Kartik', 'year': 2001}, 'child2': {'name': 'Akash', 'year': '1995'}, 'child3': {'name': 'Arya', 'year': '2000'}}\n"
     ]
    }
   ],
   "source": [
    "child1 = {\n",
    "        \"name\":\"Kartik\",\n",
    "        \"year\":2001\n",
    "    }\n",
    "child2 = {\n",
    "        \"name\":\"Akash\",\n",
    "        \"year\":\"1995\"\n",
    "    }\n",
    "child3 = {\n",
    "        \"name\":\"Arya\",\n",
    "        \"year\":\"2000\"\n",
    "    }\n",
    "    \n",
    "myFam = {\n",
    "    \"child1\": child1,\n",
    "    \"child2\": child2,\n",
    "    \"child3\": child3\n",
    "}\n",
    "\n",
    "print(myFam)"
   ]
  },
  {
   "cell_type": "code",
   "execution_count": 48,
   "metadata": {},
   "outputs": [
    {
     "name": "stdout",
     "output_type": "stream",
     "text": [
      "{1: 1, 2: 8, 3: 27, 4: 64, 5: 125, 6: 216, 7: 343, 8: 512, 9: 729, 10: 1000, 11: 1331, 12: 1728, 13: 2197, 14: 2744, 15: 3375}\n"
     ]
    }
   ],
   "source": [
    "myNum = {}\n",
    "for x in range(1, 16):\n",
    "    myNum[x] = x*x*x\n",
    "    \n",
    "print(myNum)"
   ]
  },
  {
   "cell_type": "code",
   "execution_count": null,
   "metadata": {},
   "outputs": [],
   "source": []
  }
 ],
 "metadata": {
  "kernelspec": {
   "display_name": "Python 3",
   "language": "python",
   "name": "python3"
  },
  "language_info": {
   "codemirror_mode": {
    "name": "ipython",
    "version": 3
   },
   "file_extension": ".py",
   "mimetype": "text/x-python",
   "name": "python",
   "nbconvert_exporter": "python",
   "pygments_lexer": "ipython3",
   "version": "3.8.3"
  }
 },
 "nbformat": 4,
 "nbformat_minor": 4
}
